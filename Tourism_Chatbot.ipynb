{
 "cells": [
  {
   "cell_type": "code",
   "execution_count": 1,
   "metadata": {
    "id": "Hf2XkIkA1Mj7"
   },
   "outputs": [],
   "source": [
    "import numpy as np\n",
    "import nltk\n",
    "import string\n",
    "import random"
   ]
  },
  {
   "cell_type": "markdown",
   "metadata": {
    "id": "D8F2g1mQ1xNA"
   },
   "source": [
    "Reading the corpus of text"
   ]
  },
  {
   "cell_type": "code",
   "execution_count": 3,
   "metadata": {
    "id": "B2hxFKsT1zNB"
   },
   "outputs": [],
   "source": [
    "f = open('data.txt','r',errors = 'ignore')\n",
    "raw_doc = f.read()"
   ]
  },
  {
   "cell_type": "code",
   "execution_count": 4,
   "metadata": {
    "colab": {
     "base_uri": "https://localhost:8080/",
     "height": 191
    },
    "id": "YtpX6otw3eSG",
    "outputId": "9a00a02f-381d-4d0e-e738-c80e1c8ab912"
   },
   "outputs": [
    {
     "data": {
      "text/plain": [
       "'Creating sample data for IntelliConverseLive, a travel chatbot, involves generating examples for various categories of travel information. Below are sample data entries across different aspects of travel assistance that such a chatbot might provide:\\n\\n### 1. Destination Information\\n\\n**City**: Paris, France  \\n**Coordinates**: 48.8566Â° N, 2.3522Â° E  \\n**Language**: French  \\n**Currency**: Euro (EUR)  \\n**Popular Attraction**: Eiffel Tower  \\n**Attraction Details**: Located on the Champ de Mars, open 09:30-23:45, tickets start at 10 EUR.\\n\\n### 2. Travel Planning\\n\\n**Visa Requirement for US Citizens**: Not required for stays under 90 days  \\n**Recommended Vaccinations**: None for most travelers, Hepatitis A and B recommended  \\n**Packing List for Summer**: Light clothing, sunscreen, comfortable walking shoes, sunglasses, reusable water bottle.\\n\\n### 3. Transportation\\n\\n**Airport**: Charles de Gaulle Airport (CDG)  \\n**Airport Location**: 25 km NE of Paris  \\n**Public Transport**: Paris MÃ©tro, RER train, buses, taxis  \\n**MÃ©tro Ticket Price**: Single ticket 1.90 EUR.\\n\\n### 4. Accommodations\\n\\n**Hotel**: Le Bristol Paris  \\n**Star Rating**: 5 stars  \\n**Location**: 112 Rue du Faubourg Saint-HonorÃ©, 75008 Paris, France  \\n**Amenities**: Spa, indoor rooftop pool, luxury dining  \\n**Average Price**: 1,100 EUR per night.\\n\\n### 5. Safety and Health\\n\\n**Emergency Number**: 112 (EU standard)  \\n**Travel Advisory Level**: Level 2: Exercise Increased Caution (hypothetical)  \\n**Nearest Hospital**: HÃ´pital EuropÃ©en Georges-Pompidou, 20 Rue Leblanc, 75015 Paris.\\n\\n### 6. Financial Information\\n\\n**Currency Exchange Rate**: 1 USD = 0.92 EUR (hypothetical, subject to daily changes)  \\n**ATM Info**: Widely available throughout the city, compatible with Visa and Mastercard  \\n**Average Meal Cost**: 15-25 EUR per person in a mid-range restaurant.\\n\\n### 7. Local Experiences\\n\\n**Local Delicacy**: Croissant  \\n**Recommended Restaurant**: Le Relais de l\\'EntrecÃ´te, known for its steak frites  \\n**Major Festival**: Bastille Day on July 14th, featuring parades, fireworks, and celebrations.\\n\\n### 8. Language Assistance\\n\\n**Basic Phrase**: \"OÃ¹ est la salle de bain?\" (Where is the bathroom?)  \\n**Translation**: \"Where is the bathroom?\"\\n\\n### 9. User-Generated Content\\n\\n**Attraction Review**: \"The Louvre is overwhelming but a must-see. Arrive early and wear comfortable shoes!\" - User123  \\n**Travel Itinerary**: \"Day 1: Arrival and Louvre visit. Day 2: Montmartre and SacrÃ©-CÅ“ur. Day 3: Day trip to Versailles.\"\\n\\n### 10. Customer Support\\n\\n**FAQ**: \"What is the best way to get around Paris?\"  \\n**Answer**: \"The Paris MÃ©tro is efficient and covers most of the city. For short distances, consider walking to enjoy the city\\'s sights.\"\\n\\nThis sample data is a simplified representation of what IntelliConverseLive might utilize to assist travelers. The data should be continuously updated and expanded based on current information, user feedback, and emerging travel trends to ensure the chatbot remains a valuable travel resource.\\nCertainly! Here are additional FAQs that could be included in IntelliConverseLive\\'s database to assist travelers with common inquiries:\\n\\n### General Travel FAQs\\n\\n1. **How do I know if I need a visa to travel to a specific country?**  \\n   - \"Visa requirements vary by destination and your nationality. Please provide your destination and nationality for detailed visa information.\"\\n\\n2. **What should I do if I lose my passport while traveling?**  \\n   - \"Report the loss immediately to the local police and your country\\'s embassy or consulate. They will guide you through the process of obtaining a temporary travel document.\"\\n\\n3. **Is it safe to travel during the pandemic?**  \\n   - \"Travel advisories during the pandemic vary by destination and current health alerts. Check the latest health advisories and travel restrictions for your intended destination.\"\\n\\n4. **How can I stay connected with internet access while traveling abroad?**  \\n   - \"Consider purchasing a local SIM card, renting a portable Wi-Fi device, or checking if your current mobile plan offers international coverage.\"\\n\\n5. **What are some tips for traveling with children?**  \\n   - \"Ensure accommodations are child-friendly, keep essential items like snacks and entertainment handy, and plan for frequent rest breaks.\"\\n\\n### Destination-Specific FAQs\\n\\n6. **What\\'s the best time of year to visit Paris?**  \\n   - \"Spring (April to June) and Fall (September to November) offer mild weather and fewer tourists, making them ideal times to visit.\"\\n\\n7. **Are there any cultural etiquette tips I should be aware of when visiting Japan?**  \\n   - \"In Japan, it\\'s important to respect local customs such as bowing, removing shoes before entering homes, and being mindful of quiet spaces like public transport.\"\\n\\n8. **What currency is used in Thailand and can I use credit cards everywhere?**  \\n   - \"The Thai Baht (THB) is the currency. Major cities and tourist areas accept credit cards, but it\\'s wise to carry cash for smaller establishments and rural areas.\"\\n\\n9. **How do I use public transport in London?**  \\n   - \"Purchase an Oyster card or use a contactless payment card for access to buses, the Tube, and trams. Download a transport app for routes and schedules.\"\\n\\n10. **What are the must-see attractions in New York City?**  \\n    - \"Iconic sites include the Statue of Liberty, Central Park, Times Square, the Empire State Building, and the Metropolitan Museum of Art.\"\\n\\n### Health and Safety FAQs\\n\\n11. **What vaccinations do I need before traveling to Africa?**  \\n    - \"Common recommendations include vaccines for hepatitis A, typhoid, and yellow fever, but specific requirements vary by country. Consult a travel health clinic.\"\\n\\n12. **How can I avoid getting sick while traveling in countries with poor water quality?**  \\n    - \"Drink only bottled or purified water, avoid ice in drinks, and eat foods that are cooked and served hot.\"\\n\\n13. **What should I do if I encounter political unrest while abroad?**  \\n    - \"Stay away from protest areas, monitor local media for updates, and follow any advisories from your embassy.\"\\n\\n### Accommodation and Transportation FAQs\\n\\n14. **How can I find eco-friendly accommodations?**  \\n    - \"Look for certifications like the Green Key or LEED rating, and check the property\\'s sustainability practices on their website or reviews.\"\\n\\n15. **Is it better to rent a car or use public transport when exploring Europe?**  \\n    - \"This depends on your itinerary. Public transport is efficient in most cities, but renting a car offers flexibility for exploring rural areas.\"\\n\\nBy addressing a wide range of common concerns and questions, IntelliConverseLive can enhance the travel experience for users by providing them with reliable and convenient information.\\nCertainly! Here\\'s a list of more commonly asked questions that users might pose to a travel website or chatbot like IntelliConverseLive:\\n\\n### Booking and Reservations\\n\\n1. **Can I change or cancel my booking after it\\'s been made?**\\n   - \"Booking changes and cancellations depend on the terms and conditions of your reservation. Please refer to your booking confirmation for specific details.\"\\n\\n2. **How do I know if my booking is confirmed?**\\n   - \"You should receive a confirmation email with your booking details and a confirmation number shortly after making a reservation.\"\\n\\n3. **Are there any discounts available for group bookings?**\\n   - \"Group booking discounts may be available for large parties. Please provide the number of travelers and your travel dates for more information.\"\\n\\n4. **Can I book now and pay later for my hotel stay?**\\n   - \"Many hotels offer \\'book now, pay later\\' options, allowing you to reserve a room without immediate payment. Check the hotel\\'s payment policies for details.\"\\n\\n### Travel Insurance\\n\\n5. **Should I purchase travel insurance for my trip?**\\n   - \"Travel insurance is recommended to cover unexpected events like trip cancellations, medical emergencies, or lost luggage.\"\\n\\n6. **What does travel insurance typically cover?**\\n   - \"Travel insurance can cover trip cancellations, medical emergencies, travel delays, and lost or stolen luggage, but coverage varies by policy.\"\\n\\n### Local Experiences and Activities\\n\\n7. **What are the top-rated activities in [Destination]?**\\n   - \"Popular activities in [Destination] include [Activity 1], [Activity 2], and [Activity 3]. Would you like more information on these?\"\\n\\n8. **How can I experience [Destination] like a local?**\\n   - \"To experience [Destination] like a local, try [Local Activity], visit [Lesser-Known Place], and eat at [Local Eatery].\"\\n\\n### Travel Preparation\\n\\n9. **What should I pack for a trip to [Destination] during [Season]?**\\n   - \"For [Season] in [Destination], it\\'s recommended to bring [Item 1], [Item 2], and [Item 3] due to the [Weather/Local Conditions].\"\\n\\n10. **Do I need any vaccinations before traveling to [Destination]?**\\n    - \"For travel to [Destination], it\\'s recommended to have vaccinations for [Vaccination 1], [Vaccination 2]. Consult a travel health clinic for personalized advice.\"\\n\\n### On-the-Ground Information\\n\\n11. **How do I use public transportation in [Destination]?**\\n    - \"In [Destination], you can use public transportation by [Method 1], [Method 2]. Purchase tickets at [Location] or use [App/Service].\"\\n\\n12. **Where can I find Wi-Fi in [Destination]?**\\n    - \"Wi-Fi is available at most cafes, hotels, and public libraries in [Destination]. Look for signs indicating free Wi-Fi or ask the staff for access.\"\\n\\n### Cultural Etiquette and Tips\\n\\n13. **What are some cultural norms and etiquette I should be aware of in [Destination]?**\\n    - \"In [Destination], it\\'s important to [Cultural Norm 1], [Cultural Norm 2]. This shows respect for local customs.\"\\n\\n14. **Can I tip in [Destination], and how much is customary?**\\n    - \"Tipping in [Destination] is [Customary/Not customary]. For good service, a tip of [X]% is appreciated in [Contexts such as restaurants, taxis].\"\\n\\n### Safety and Emergencies\\n\\n15. **What should I do in case of an emergency in [Destination]?**\\n    - \"In an emergency, dial [Emergency Number] for [Destination]. It\\'s also a good idea to know the location of your nearest embassy or consulate.\"\\n\\n16. **Is [Destination] safe for solo travelers?**\\n    - \"Generally, [Destination] is considered safe for solo travelers, but it\\'s important to stay aware of your surroundings and follow standard travel safety tips.\"\\n\\nBy providing comprehensive answers to these questions, a travel website or chatbot can significantly enhance user engagement and provide valuable assistance in planning and enjoying their travels.'"
      ]
     },
     "execution_count": 4,
     "metadata": {},
     "output_type": "execute_result"
    }
   ],
   "source": [
    "raw_doc"
   ]
  },
  {
   "cell_type": "code",
   "execution_count": 5,
   "metadata": {
    "colab": {
     "base_uri": "https://localhost:8080/"
    },
    "id": "2kTDbk1_2f1r",
    "outputId": "7b2f0548-7e14-4223-f787-6d68eac5c1aa"
   },
   "outputs": [
    {
     "name": "stderr",
     "output_type": "stream",
     "text": [
      "[nltk_data] Downloading package punkt to\n",
      "[nltk_data]     C:\\Users\\21052106\\AppData\\Roaming\\nltk_data...\n",
      "[nltk_data]   Unzipping tokenizers\\punkt.zip.\n",
      "[nltk_data] Downloading package wordnet to\n",
      "[nltk_data]     C:\\Users\\21052106\\AppData\\Roaming\\nltk_data...\n",
      "[nltk_data] Downloading package omw-1.4 to\n",
      "[nltk_data]     C:\\Users\\21052106\\AppData\\Roaming\\nltk_data...\n"
     ]
    },
    {
     "data": {
      "text/plain": [
       "True"
      ]
     },
     "execution_count": 5,
     "metadata": {},
     "output_type": "execute_result"
    }
   ],
   "source": [
    "raw_doc= raw_doc.lower()\n",
    "nltk.download('punkt')\n",
    "nltk.download('wordnet')\n",
    "nltk.download('omw-1.4')\n"
   ]
  },
  {
   "cell_type": "code",
   "execution_count": 6,
   "metadata": {
    "colab": {
     "base_uri": "https://localhost:8080/",
     "height": 191
    },
    "id": "MR2xXjKC3u9Y",
    "outputId": "f04f30bc-2f07-4019-bfc7-13748cf092c6"
   },
   "outputs": [
    {
     "data": {
      "text/plain": [
       "'creating sample data for intelliconverselive, a travel chatbot, involves generating examples for various categories of travel information. below are sample data entries across different aspects of travel assistance that such a chatbot might provide:\\n\\n### 1. destination information\\n\\n**city**: paris, france  \\n**coordinates**: 48.8566â° n, 2.3522â° e  \\n**language**: french  \\n**currency**: euro (eur)  \\n**popular attraction**: eiffel tower  \\n**attraction details**: located on the champ de mars, open 09:30-23:45, tickets start at 10 eur.\\n\\n### 2. travel planning\\n\\n**visa requirement for us citizens**: not required for stays under 90 days  \\n**recommended vaccinations**: none for most travelers, hepatitis a and b recommended  \\n**packing list for summer**: light clothing, sunscreen, comfortable walking shoes, sunglasses, reusable water bottle.\\n\\n### 3. transportation\\n\\n**airport**: charles de gaulle airport (cdg)  \\n**airport location**: 25 km ne of paris  \\n**public transport**: paris mã©tro, rer train, buses, taxis  \\n**mã©tro ticket price**: single ticket 1.90 eur.\\n\\n### 4. accommodations\\n\\n**hotel**: le bristol paris  \\n**star rating**: 5 stars  \\n**location**: 112 rue du faubourg saint-honorã©, 75008 paris, france  \\n**amenities**: spa, indoor rooftop pool, luxury dining  \\n**average price**: 1,100 eur per night.\\n\\n### 5. safety and health\\n\\n**emergency number**: 112 (eu standard)  \\n**travel advisory level**: level 2: exercise increased caution (hypothetical)  \\n**nearest hospital**: hã´pital europã©en georges-pompidou, 20 rue leblanc, 75015 paris.\\n\\n### 6. financial information\\n\\n**currency exchange rate**: 1 usd = 0.92 eur (hypothetical, subject to daily changes)  \\n**atm info**: widely available throughout the city, compatible with visa and mastercard  \\n**average meal cost**: 15-25 eur per person in a mid-range restaurant.\\n\\n### 7. local experiences\\n\\n**local delicacy**: croissant  \\n**recommended restaurant**: le relais de l\\'entrecã´te, known for its steak frites  \\n**major festival**: bastille day on july 14th, featuring parades, fireworks, and celebrations.\\n\\n### 8. language assistance\\n\\n**basic phrase**: \"oã¹ est la salle de bain?\" (where is the bathroom?)  \\n**translation**: \"where is the bathroom?\"\\n\\n### 9. user-generated content\\n\\n**attraction review**: \"the louvre is overwhelming but a must-see. arrive early and wear comfortable shoes!\" - user123  \\n**travel itinerary**: \"day 1: arrival and louvre visit. day 2: montmartre and sacrã©-cå“ur. day 3: day trip to versailles.\"\\n\\n### 10. customer support\\n\\n**faq**: \"what is the best way to get around paris?\"  \\n**answer**: \"the paris mã©tro is efficient and covers most of the city. for short distances, consider walking to enjoy the city\\'s sights.\"\\n\\nthis sample data is a simplified representation of what intelliconverselive might utilize to assist travelers. the data should be continuously updated and expanded based on current information, user feedback, and emerging travel trends to ensure the chatbot remains a valuable travel resource.\\ncertainly! here are additional faqs that could be included in intelliconverselive\\'s database to assist travelers with common inquiries:\\n\\n### general travel faqs\\n\\n1. **how do i know if i need a visa to travel to a specific country?**  \\n   - \"visa requirements vary by destination and your nationality. please provide your destination and nationality for detailed visa information.\"\\n\\n2. **what should i do if i lose my passport while traveling?**  \\n   - \"report the loss immediately to the local police and your country\\'s embassy or consulate. they will guide you through the process of obtaining a temporary travel document.\"\\n\\n3. **is it safe to travel during the pandemic?**  \\n   - \"travel advisories during the pandemic vary by destination and current health alerts. check the latest health advisories and travel restrictions for your intended destination.\"\\n\\n4. **how can i stay connected with internet access while traveling abroad?**  \\n   - \"consider purchasing a local sim card, renting a portable wi-fi device, or checking if your current mobile plan offers international coverage.\"\\n\\n5. **what are some tips for traveling with children?**  \\n   - \"ensure accommodations are child-friendly, keep essential items like snacks and entertainment handy, and plan for frequent rest breaks.\"\\n\\n### destination-specific faqs\\n\\n6. **what\\'s the best time of year to visit paris?**  \\n   - \"spring (april to june) and fall (september to november) offer mild weather and fewer tourists, making them ideal times to visit.\"\\n\\n7. **are there any cultural etiquette tips i should be aware of when visiting japan?**  \\n   - \"in japan, it\\'s important to respect local customs such as bowing, removing shoes before entering homes, and being mindful of quiet spaces like public transport.\"\\n\\n8. **what currency is used in thailand and can i use credit cards everywhere?**  \\n   - \"the thai baht (thb) is the currency. major cities and tourist areas accept credit cards, but it\\'s wise to carry cash for smaller establishments and rural areas.\"\\n\\n9. **how do i use public transport in london?**  \\n   - \"purchase an oyster card or use a contactless payment card for access to buses, the tube, and trams. download a transport app for routes and schedules.\"\\n\\n10. **what are the must-see attractions in new york city?**  \\n    - \"iconic sites include the statue of liberty, central park, times square, the empire state building, and the metropolitan museum of art.\"\\n\\n### health and safety faqs\\n\\n11. **what vaccinations do i need before traveling to africa?**  \\n    - \"common recommendations include vaccines for hepatitis a, typhoid, and yellow fever, but specific requirements vary by country. consult a travel health clinic.\"\\n\\n12. **how can i avoid getting sick while traveling in countries with poor water quality?**  \\n    - \"drink only bottled or purified water, avoid ice in drinks, and eat foods that are cooked and served hot.\"\\n\\n13. **what should i do if i encounter political unrest while abroad?**  \\n    - \"stay away from protest areas, monitor local media for updates, and follow any advisories from your embassy.\"\\n\\n### accommodation and transportation faqs\\n\\n14. **how can i find eco-friendly accommodations?**  \\n    - \"look for certifications like the green key or leed rating, and check the property\\'s sustainability practices on their website or reviews.\"\\n\\n15. **is it better to rent a car or use public transport when exploring europe?**  \\n    - \"this depends on your itinerary. public transport is efficient in most cities, but renting a car offers flexibility for exploring rural areas.\"\\n\\nby addressing a wide range of common concerns and questions, intelliconverselive can enhance the travel experience for users by providing them with reliable and convenient information.\\ncertainly! here\\'s a list of more commonly asked questions that users might pose to a travel website or chatbot like intelliconverselive:\\n\\n### booking and reservations\\n\\n1. **can i change or cancel my booking after it\\'s been made?**\\n   - \"booking changes and cancellations depend on the terms and conditions of your reservation. please refer to your booking confirmation for specific details.\"\\n\\n2. **how do i know if my booking is confirmed?**\\n   - \"you should receive a confirmation email with your booking details and a confirmation number shortly after making a reservation.\"\\n\\n3. **are there any discounts available for group bookings?**\\n   - \"group booking discounts may be available for large parties. please provide the number of travelers and your travel dates for more information.\"\\n\\n4. **can i book now and pay later for my hotel stay?**\\n   - \"many hotels offer \\'book now, pay later\\' options, allowing you to reserve a room without immediate payment. check the hotel\\'s payment policies for details.\"\\n\\n### travel insurance\\n\\n5. **should i purchase travel insurance for my trip?**\\n   - \"travel insurance is recommended to cover unexpected events like trip cancellations, medical emergencies, or lost luggage.\"\\n\\n6. **what does travel insurance typically cover?**\\n   - \"travel insurance can cover trip cancellations, medical emergencies, travel delays, and lost or stolen luggage, but coverage varies by policy.\"\\n\\n### local experiences and activities\\n\\n7. **what are the top-rated activities in [destination]?**\\n   - \"popular activities in [destination] include [activity 1], [activity 2], and [activity 3]. would you like more information on these?\"\\n\\n8. **how can i experience [destination] like a local?**\\n   - \"to experience [destination] like a local, try [local activity], visit [lesser-known place], and eat at [local eatery].\"\\n\\n### travel preparation\\n\\n9. **what should i pack for a trip to [destination] during [season]?**\\n   - \"for [season] in [destination], it\\'s recommended to bring [item 1], [item 2], and [item 3] due to the [weather/local conditions].\"\\n\\n10. **do i need any vaccinations before traveling to [destination]?**\\n    - \"for travel to [destination], it\\'s recommended to have vaccinations for [vaccination 1], [vaccination 2]. consult a travel health clinic for personalized advice.\"\\n\\n### on-the-ground information\\n\\n11. **how do i use public transportation in [destination]?**\\n    - \"in [destination], you can use public transportation by [method 1], [method 2]. purchase tickets at [location] or use [app/service].\"\\n\\n12. **where can i find wi-fi in [destination]?**\\n    - \"wi-fi is available at most cafes, hotels, and public libraries in [destination]. look for signs indicating free wi-fi or ask the staff for access.\"\\n\\n### cultural etiquette and tips\\n\\n13. **what are some cultural norms and etiquette i should be aware of in [destination]?**\\n    - \"in [destination], it\\'s important to [cultural norm 1], [cultural norm 2]. this shows respect for local customs.\"\\n\\n14. **can i tip in [destination], and how much is customary?**\\n    - \"tipping in [destination] is [customary/not customary]. for good service, a tip of [x]% is appreciated in [contexts such as restaurants, taxis].\"\\n\\n### safety and emergencies\\n\\n15. **what should i do in case of an emergency in [destination]?**\\n    - \"in an emergency, dial [emergency number] for [destination]. it\\'s also a good idea to know the location of your nearest embassy or consulate.\"\\n\\n16. **is [destination] safe for solo travelers?**\\n    - \"generally, [destination] is considered safe for solo travelers, but it\\'s important to stay aware of your surroundings and follow standard travel safety tips.\"\\n\\nby providing comprehensive answers to these questions, a travel website or chatbot can significantly enhance user engagement and provide valuable assistance in planning and enjoying their travels.'"
      ]
     },
     "execution_count": 6,
     "metadata": {},
     "output_type": "execute_result"
    }
   ],
   "source": [
    "raw_doc"
   ]
  },
  {
   "cell_type": "code",
   "execution_count": 8,
   "metadata": {
    "id": "PXEfbcic3S5w"
   },
   "outputs": [],
   "source": [
    "sentence_tokens = nltk.sent_tokenize(raw_doc)\n",
    "word_tokens = nltk.word_tokenize(raw_doc)"
   ]
  },
  {
   "cell_type": "markdown",
   "metadata": {
    "id": "i9ylrYMf37dK"
   },
   "source": [
    "After tokenization"
   ]
  },
  {
   "cell_type": "code",
   "execution_count": 9,
   "metadata": {
    "colab": {
     "base_uri": "https://localhost:8080/"
    },
    "id": "-PYzmKjC3-0A",
    "outputId": "6454e428-3797-4dae-c494-ed373b8d99de"
   },
   "outputs": [
    {
     "data": {
      "text/plain": [
       "['creating sample data for intelliconverselive, a travel chatbot, involves generating examples for various categories of travel information.',\n",
       " 'below are sample data entries across different aspects of travel assistance that such a chatbot might provide:\\n\\n### 1. destination information\\n\\n**city**: paris, france  \\n**coordinates**: 48.8566â° n, 2.3522â° e  \\n**language**: french  \\n**currency**: euro (eur)  \\n**popular attraction**: eiffel tower  \\n**attraction details**: located on the champ de mars, open 09:30-23:45, tickets start at 10 eur.',\n",
       " '### 2. travel planning\\n\\n**visa requirement for us citizens**: not required for stays under 90 days  \\n**recommended vaccinations**: none for most travelers, hepatitis a and b recommended  \\n**packing list for summer**: light clothing, sunscreen, comfortable walking shoes, sunglasses, reusable water bottle.',\n",
       " '### 3. transportation\\n\\n**airport**: charles de gaulle airport (cdg)  \\n**airport location**: 25 km ne of paris  \\n**public transport**: paris mã©tro, rer train, buses, taxis  \\n**mã©tro ticket price**: single ticket 1.90 eur.',\n",
       " '### 4. accommodations\\n\\n**hotel**: le bristol paris  \\n**star rating**: 5 stars  \\n**location**: 112 rue du faubourg saint-honorã©, 75008 paris, france  \\n**amenities**: spa, indoor rooftop pool, luxury dining  \\n**average price**: 1,100 eur per night.']"
      ]
     },
     "execution_count": 9,
     "metadata": {},
     "output_type": "execute_result"
    }
   ],
   "source": [
    "sentence_tokens[:5]"
   ]
  },
  {
   "cell_type": "code",
   "execution_count": 10,
   "metadata": {
    "colab": {
     "base_uri": "https://localhost:8080/"
    },
    "id": "i3XeEfBE4glV",
    "outputId": "3c3e186c-1cd1-4c53-f062-a3abf6f10440"
   },
   "outputs": [
    {
     "data": {
      "text/plain": [
       "['creating', 'sample']"
      ]
     },
     "execution_count": 10,
     "metadata": {},
     "output_type": "execute_result"
    }
   ],
   "source": [
    "word_tokens[:2]"
   ]
  },
  {
   "cell_type": "markdown",
   "metadata": {
    "id": "41MX-Dyz46dG"
   },
   "source": [
    "Performing text pre-processing steps"
   ]
  },
  {
   "cell_type": "code",
   "execution_count": 11,
   "metadata": {
    "id": "nXHc62g0499X"
   },
   "outputs": [],
   "source": [
    "lemmer = nltk.stem.WordNetLemmatizer()\n",
    "def LemTokens(tokens):\n",
    "  return[lemmer.lemmatize(token) for token in tokens]\n",
    "  remove_punc_dict = dict((ord(punc), None) for punc in string.punctuation)\n",
    "  def LemNormalize(text):\n",
    "    return LemTokens(nltk.word_tokenize(text.lower().translate(remove_punc_dict)))"
   ]
  },
  {
   "cell_type": "markdown",
   "metadata": {
    "id": "yDsXJqyr6h9v"
   },
   "source": [
    "Define Greeting functions"
   ]
  },
  {
   "cell_type": "code",
   "execution_count": 22,
   "metadata": {
    "id": "NAPYw-Dl6mXH"
   },
   "outputs": [],
   "source": [
    "def greet(sentence):\n",
    "  for word in sentence.split():\n",
    "    if word.lower() in greet.inputs:\n",
    "      return random.choice(greet_responses)\n",
    "\n",
    "greet.inputs = [\"hello\", \"hi\", \"greetings\", \"sup\", \"what's up\", \"hey\"]\n",
    "greet_responses = [\"hi\", \"hey\", \"*nods*\", \"hi there\", \"hello\", \"I am glad! You are talking to me\"]"
   ]
  },
  {
   "cell_type": "markdown",
   "metadata": {
    "id": "qbmfj0QU8K5k"
   },
   "source": [
    "Response generation by the bot"
   ]
  },
  {
   "cell_type": "code",
   "execution_count": 23,
   "metadata": {
    "id": "tJ1ILjt-8Nzn"
   },
   "outputs": [],
   "source": [
    "from sklearn.feature_extraction.text import TfidfVectorizer\n",
    "from sklearn.metrics.pairwise import cosine_similarity"
   ]
  },
  {
   "cell_type": "code",
   "execution_count": 24,
   "metadata": {
    "id": "eNbtDQy18onz"
   },
   "outputs": [],
   "source": [
    "def response(user_response):\n",
    "  robo1_response = ''\n",
    "  TfidfVec = TfidfVectorizer(tokenizer = LemNormalize, stop_words = 'english')\n",
    "  tfidf = TfidfVec.fit_transform(sentence_tokens)\n",
    "  vals = cosine_similarity(tfidf[-1], tfidf)\n",
    "  idx = vals.argsort()[0][-2]\n",
    "  flat = vals.flatten()\n",
    "  flat.sort()\n",
    "  req_tfidf = flat[-2]\n",
    "  if (req_tfidf == 0):\n",
    "    robo1_response = robo1_response + \"I am sorry. Unable to understand you!\"\n",
    "    return robo1_response\n",
    "  else:\n",
    "    robo1_response = robo1_response + sentence_tokens[idx]\n",
    "    return robo1_response"
   ]
  },
  {
   "cell_type": "code",
   "execution_count": null,
   "metadata": {
    "colab": {
     "base_uri": "https://localhost:8080/",
     "height": 419
    },
    "id": "0NB_XpUi-SY_",
    "outputId": "bef0da16-d4f3-400b-cca6-0165adcecc3d"
   },
   "outputs": [
    {
     "name": "stdout",
     "output_type": "stream",
     "text": [
      "Hellol I am the Learning Bot. Start typing your text after greeting to talk to me. For ending convo type bye!\n"
     ]
    },
    {
     "name": "stdin",
     "output_type": "stream",
     "text": [
      " hi\n"
     ]
    },
    {
     "name": "stdout",
     "output_type": "stream",
     "text": [
      "Bot hi\n"
     ]
    },
    {
     "name": "stdin",
     "output_type": "stream",
     "text": [
      " plan something\n"
     ]
    },
    {
     "name": "stdout",
     "output_type": "stream",
     "text": [
      "Bot: plan a trip\n"
     ]
    },
    {
     "name": "stdin",
     "output_type": "stream",
     "text": [
      " for  me\n"
     ]
    },
    {
     "name": "stdout",
     "output_type": "stream",
     "text": [
      "Bot: I am sorry. Unable to understand you!\n"
     ]
    },
    {
     "name": "stdin",
     "output_type": "stream",
     "text": [
      " i want to go\n"
     ]
    },
    {
     "name": "stdout",
     "output_type": "stream",
     "text": [
      "Bot: I am sorry. Unable to understand you!\n"
     ]
    }
   ],
   "source": [
    "flag= True\n",
    "print('Hellol I am the Learning Bot. Start typing your text after greeting to talk to me. For ending convo type bye!')\n",
    "while(flag == True):\n",
    "  user_response = input()\n",
    "  user_response = user_response.lower()\n",
    "  if(user_response != 'bye'):\n",
    "    if(user_response == 'thank you' or user_response == 'thanks'):\n",
    "      flag= False\n",
    "      print('Bot: You are Welcome..')\n",
    "    else:\n",
    "      if(greet(user_response) != None):\n",
    "        print('Bot '+ greet(user_response))\n",
    "      else:\n",
    "        sentence_tokens.append(user_response)\n",
    "        word_tokens = word_tokens + nltk.word_tokenize(user_response)\n",
    "        final_words = list(set(word_tokens))\n",
    "        print('Bot: ', end = '')\n",
    "        print(response(user_response))\n",
    "        sentence_tokens.remove(user_response)\n",
    "  else:\n",
    "    flag = False\n",
    "    print('Bot: Goodbye!')"
   ]
  },
  {
   "cell_type": "code",
   "execution_count": null,
   "metadata": {
    "id": "XZ1t7u9RmOme"
   },
   "outputs": [],
   "source": []
  }
 ],
 "metadata": {
  "colab": {
   "provenance": []
  },
  "kernelspec": {
   "display_name": "Python 3 (ipykernel)",
   "language": "python",
   "name": "python3"
  },
  "language_info": {
   "codemirror_mode": {
    "name": "ipython",
    "version": 3
   },
   "file_extension": ".py",
   "mimetype": "text/x-python",
   "name": "python",
   "nbconvert_exporter": "python",
   "pygments_lexer": "ipython3",
   "version": "3.11.7"
  }
 },
 "nbformat": 4,
 "nbformat_minor": 4
}
