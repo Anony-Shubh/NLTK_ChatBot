{
 "cells": [
  {
   "cell_type": "code",
   "execution_count": null,
   "id": "41d1b9b6-1a81-444d-b962-76b33c09670c",
   "metadata": {},
   "outputs": [
    {
     "name": "stdout",
     "output_type": "stream",
     "text": [
      "Bot: Hello! I am the Learning Bot. Start typing your text after greeting to talk to me. For ending the convo type 'bye'!\n"
     ]
    },
    {
     "name": "stdin",
     "output_type": "stream",
     "text": [
      " hi\n"
     ]
    },
    {
     "name": "stdout",
     "output_type": "stream",
     "text": [
      "Bot: I am glad! You are talking to me\n"
     ]
    },
    {
     "name": "stdin",
     "output_type": "stream",
     "text": [
      " tell me about yourself\n"
     ]
    },
    {
     "name": "stdout",
     "output_type": "stream",
     "text": [
      "Bot: "
     ]
    },
    {
     "name": "stderr",
     "output_type": "stream",
     "text": [
      "C:\\Users\\21052106\\anaconda3\\Lib\\site-packages\\sklearn\\feature_extraction\\text.py:528: UserWarning: The parameter 'token_pattern' will not be used since 'tokenizer' is not None'\n",
      "  warnings.warn(\n",
      "C:\\Users\\21052106\\anaconda3\\Lib\\site-packages\\sklearn\\feature_extraction\\text.py:409: UserWarning: Your stop_words may be inconsistent with your preprocessing. Tokenizing the stop words generated tokens ['ha', 'le', 'u', 'wa'] not in stop_words.\n",
      "  warnings.warn(\n"
     ]
    },
    {
     "name": "stdout",
     "output_type": "stream",
     "text": [
      "I am sorry. Unable to understand you!\n"
     ]
    },
    {
     "name": "stdin",
     "output_type": "stream",
     "text": [
      " plan a trip\n"
     ]
    },
    {
     "name": "stdout",
     "output_type": "stream",
     "text": [
      "Bot: **should i purchase travel insurance for my trip?\n"
     ]
    },
    {
     "name": "stdin",
     "output_type": "stream",
     "text": [
      " no\n"
     ]
    },
    {
     "name": "stdout",
     "output_type": "stream",
     "text": [
      "Bot: I am sorry. Unable to understand you!\n"
     ]
    },
    {
     "name": "stdin",
     "output_type": "stream",
     "text": [
      " plan a trip\n"
     ]
    },
    {
     "name": "stdout",
     "output_type": "stream",
     "text": [
      "Bot: **should i purchase travel insurance for my trip?\n"
     ]
    },
    {
     "name": "stdin",
     "output_type": "stream",
     "text": [
      " trip\n"
     ]
    },
    {
     "name": "stdout",
     "output_type": "stream",
     "text": [
      "Bot: **should i purchase travel insurance for my trip?\n"
     ]
    },
    {
     "name": "stdin",
     "output_type": "stream",
     "text": [
      " paris\n"
     ]
    },
    {
     "name": "stdout",
     "output_type": "stream",
     "text": [
      "Bot: **answer**: \"the paris mã©tro is efficient and covers most of the city.\n"
     ]
    },
    {
     "name": "stdin",
     "output_type": "stream",
     "text": [
      " metro\n"
     ]
    },
    {
     "name": "stdout",
     "output_type": "stream",
     "text": [
      "Bot: I am sorry. Unable to understand you!\n"
     ]
    }
   ],
   "source": [
    "import numpy as np\n",
    "import nltk\n",
    "import string\n",
    "import random\n",
    "from sklearn.feature_extraction.text import TfidfVectorizer\n",
    "from sklearn.metrics.pairwise import cosine_similarity\n",
    "\n",
    "# Ensure necessary NLTK downloads\n",
    "nltk.download('punkt', quiet=True)\n",
    "nltk.download('wordnet', quiet=True)\n",
    "nltk.download('omw-1.4', quiet=True)\n",
    "nltk.download('stopwords', quiet=True)\n",
    "\n",
    "# Initialize the WordNet lemmatizer\n",
    "lemmatizer = nltk.stem.WordNetLemmatizer()\n",
    "\n",
    "# Function to perform lemmatization\n",
    "def LemTokens(tokens):\n",
    "    return [lemmatizer.lemmatize(token) for token in tokens]\n",
    "\n",
    "# Function to normalize text\n",
    "def LemNormalize(text):\n",
    "    remove_punc_dict = dict((ord(punc), None) for punc in string.punctuation)\n",
    "    words = nltk.word_tokenize(text.lower().translate(remove_punc_dict))\n",
    "    return LemTokens(words)\n",
    "\n",
    "# Greeting function\n",
    "def greet(sentence):\n",
    "    for word in sentence.split():\n",
    "        if word.lower() in [\"hello\", \"hi\", \"greetings\", \"sup\", \"what's up\", \"hey\"]:\n",
    "            return random.choice([\"hi\", \"hey\", \"*nods*\", \"hi there\", \"hello\", \"I am glad! You are talking to me\"])\n",
    "    return None\n",
    "\n",
    "# Response generation by the bot\n",
    "def response(user_response):\n",
    "    robo1_response = ''\n",
    "    TfidfVec = TfidfVectorizer(tokenizer=LemNormalize, stop_words='english')\n",
    "    tfidf = TfidfVec.fit_transform(sentence_tokens)\n",
    "    vals = cosine_similarity(tfidf[-1], tfidf)\n",
    "    idx = vals.argsort()[0][-2]\n",
    "    flat = vals.flatten()\n",
    "    flat.sort()\n",
    "    req_tfidf = flat[-2]\n",
    "    if req_tfidf == 0:\n",
    "        robo1_response = \"I am sorry. Unable to understand you!\"\n",
    "    else:\n",
    "        robo1_response = sentence_tokens[idx]\n",
    "    return robo1_response\n",
    "\n",
    "# Main chatbot interaction loop\n",
    "def chatbot():\n",
    "    print(\"Bot: Hello! I am the Learning Bot. Start typing your text after greeting to talk to me. For ending the convo type 'bye'!\")\n",
    "    flag = True\n",
    "    while(flag == True):\n",
    "        user_response = input()\n",
    "        user_response = user_response.lower()\n",
    "        if(user_response != 'bye'):\n",
    "            if(user_response == 'thank you' or user_response == 'thanks'):\n",
    "                flag = False\n",
    "                print(\"Bot: You are welcome..\")\n",
    "            else:\n",
    "                if(greet(user_response) != None):\n",
    "                    print(\"Bot: \" + greet(user_response))\n",
    "                else:\n",
    "                    sentence_tokens.append(user_response)\n",
    "                    print(\"Bot: \", end=\"\")\n",
    "                    print(response(user_response))\n",
    "                    sentence_tokens.remove(user_response)\n",
    "        else:\n",
    "            flag = False\n",
    "            print(\"Bot: Goodbye!\")\n",
    "\n",
    "# Reading the corpus of text\n",
    "with open('data.txt', 'r', errors='ignore') as f:\n",
    "    raw_doc = f.read().lower()\n",
    "\n",
    "sentence_tokens = nltk.sent_tokenize(raw_doc) # Convert to list of sentences\n",
    "word_tokens = nltk.word_tokenize(raw_doc)    # Convert to list of words\n",
    "\n",
    "# Start the chatbot\n",
    "chatbot()\n"
   ]
  },
  {
   "cell_type": "code",
   "execution_count": null,
   "id": "a3ac90bb-96d4-491c-a24c-d5b676754812",
   "metadata": {},
   "outputs": [],
   "source": []
  }
 ],
 "metadata": {
  "kernelspec": {
   "display_name": "Python 3 (ipykernel)",
   "language": "python",
   "name": "python3"
  },
  "language_info": {
   "codemirror_mode": {
    "name": "ipython",
    "version": 3
   },
   "file_extension": ".py",
   "mimetype": "text/x-python",
   "name": "python",
   "nbconvert_exporter": "python",
   "pygments_lexer": "ipython3",
   "version": "3.11.7"
  }
 },
 "nbformat": 4,
 "nbformat_minor": 5
}
